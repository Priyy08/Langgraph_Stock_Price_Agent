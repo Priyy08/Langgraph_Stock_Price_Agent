{
 "cells": [
  {
   "cell_type": "code",
   "execution_count": 64,
   "id": "888275b1",
   "metadata": {},
   "outputs": [],
   "source": [
    "from typing import Annotated\n",
    "\n",
    "from typing import TypedDict\n",
    "\n",
    "from langgraph.graph import StateGraph, START, END\n",
    "from langgraph.graph.message import add_messages\n",
    "import dateparser\n",
    "\n",
    "from pydantic import BaseModel, Field\n",
    "from typing import Optional\n",
    "import yfinance as yf"
   ]
  },
  {
   "cell_type": "code",
   "execution_count": null,
   "id": "1d72a4c4",
   "metadata": {},
   "outputs": [],
   "source": [
    "class StockData(TypedDict):\n",
    "    symbol: str = Field(..., description=\"The stock symbol, e.g., TSLA, AAPL\")\n",
    "    time: str = Field(..., description=\"The time or timeframe of the query\")\n",
    "    price: Optional[float] = Field(None, description=\"The stock price if available\")\n",
    "    response: Optional[str] = Field(None, description=\"Final human-friendly response\")\n",
    "    message: str = Field(..., description=\"Original user request\")\n",
    "    "
   ]
  },
  {
   "cell_type": "code",
   "execution_count": 66,
   "id": "04f571e0",
   "metadata": {},
   "outputs": [],
   "source": [
    "\n",
    "from langchain_google_genai import ChatGoogleGenerativeAI\n",
    "from dotenv import load_dotenv\n",
    "load_dotenv()\n",
    "\n",
    "llm = ChatGoogleGenerativeAI(model=\"gemini-2.5-flash-lite\")\n",
    "\n",
    "llm_with_structured_output = llm.with_structured_output(StockData)"
   ]
  },
  {
   "cell_type": "code",
   "execution_count": 80,
   "id": "ad155487",
   "metadata": {},
   "outputs": [],
   "source": [
    "import pytz\n",
    "\n",
    "# ---- Parser Node ----\n",
    "def parser_node(State: StockData) -> StockData:\n",
    "    \"\"\"\n",
    "    Uses LLM to parse symbol and time from user request.\n",
    "    \"\"\"\n",
    "    response = llm_with_structured_output.invoke(State[\"message\"])\n",
    "    # Merge structured output into state\n",
    "    State.update(response)\n",
    "    return State\n",
    "\n",
    "# ---- Price Tool Node ----\n",
    "def price_tool_node(State: StockData) -> StockData:\n",
    "    \"\"\"\n",
    "    Calls yfinance to fetch stock price for given symbol and time.\n",
    "    \"\"\"\n",
    "    symbol = State.get(\"symbol\")\n",
    "    time_str = State.get(\"time\")\n",
    "\n",
    "    if not symbol:\n",
    "        State[\"response\"] = \"⚠️ No stock symbol detected in your query.\"\n",
    "        return State\n",
    "\n",
    "    if not time_str:\n",
    "        State[\"response\"] = \"⚠️ No timeframe detected in your query.\"\n",
    "        return State\n",
    "\n",
    "    # Parse time string into datetime\n",
    "    parsed_time = dateparser.parse(time_str)\n",
    "    if not parsed_time:\n",
    "        State[\"response\"] = f\"⚠️ Could not parse time: {time_str}\"\n",
    "        return State\n",
    "\n",
    "    try:\n",
    "        stock = yf.Ticker(symbol)\n",
    "        hist = stock.history(period=\"10y\", interval=\"1d\")\n",
    "\n",
    "        if hist.empty:\n",
    "            State[\"response\"] = f\"⚠️ No data found for {symbol}\"\n",
    "            return State\n",
    "        \n",
    "        # ✅ Align parsed_time with index timezone\n",
    "        tz = hist.index.tz  # e.g., America/New_York\n",
    "        if tz is not None:\n",
    "            parsed_time = pytz.timezone(str(tz)).localize(parsed_time)\n",
    "\n",
    "        # ✅ Find the closest trading date\n",
    "        nearest_idx = hist.index.get_indexer([parsed_time], method=\"nearest\")[0]\n",
    "        row = hist.iloc[nearest_idx]\n",
    "\n",
    "        State[\"price\"] = float(row[\"Close\"])\n",
    "        State[\"time\"] = hist.index[nearest_idx].strftime(\"%Y-%m-%d\")\n",
    "\n",
    "    except Exception as e:\n",
    "        State[\"response\"] = f\"❌ Error fetching stock data: {str(e)}\"\n",
    "        return State\n",
    "\n",
    "    return State\n",
    "\n",
    "# ---- Formatter Node ----\n",
    "def formatter_node(State: StockData) -> StockData:\n",
    "    symbol = State.get(\"symbol\", \"Unknown\")\n",
    "    price = State.get(\"price\")\n",
    "    time = State.get(\"time\")\n",
    "\n",
    "    if price is None or price == 0.0:\n",
    "        State[\"response\"] = f\"⚠️ Could not retrieve a valid price for {symbol} at {time}.\"\n",
    "    else:\n",
    "        State[\"response\"] = f\"The stock price of {symbol} on {time} was ${price:.2f}.\"\n",
    "    \n",
    "    return State\n"
   ]
  },
  {
   "cell_type": "code",
   "execution_count": 81,
   "id": "cf2e5c7d",
   "metadata": {},
   "outputs": [
    {
     "data": {
      "image/png": "[encoded data removed]",
      "text/plain": [
       "<langgraph.graph.state.CompiledStateGraph object at 0x000002797957DBA0>"
      ]
     },
     "execution_count": 81,
     "metadata": {},
     "output_type": "execute_result"
    }
   ],
   "source": [
    "graph = StateGraph(StockData)\n",
    "\n",
    "graph.add_node(\"parser\", parser_node)\n",
    "graph.add_node(\"price_tool\", price_tool_node)\n",
    "graph.add_node(\"formatter\", formatter_node)\n",
    "\n",
    "graph.add_edge(START, \"parser\")\n",
    "graph.add_edge(\"parser\", \"price_tool\")\n",
    "graph.add_edge(\"price_tool\", \"formatter\")\n",
    "graph.add_edge(\"formatter\", END)\n",
    "\n",
    "workflow = graph.compile()\n",
    "workflow"
   ]
  },
  {
   "cell_type": "code",
   "execution_count": 82,
   "id": "a22e289b",
   "metadata": {},
   "outputs": [
    {
     "name": "stderr",
     "output_type": "stream",
     "text": [
      "C:\\Users\\Acer\\AppData\\Local\\Temp\\ipykernel_7276\\3377925223.py:30: DeprecationWarning: Parsing dates involving a day of month without a year specified is ambiguious\n",
      "and fails to parse leap day. The default behavior will change in Python 3.15\n",
      "to either always raise an exception or to use a different default year (TBD).\n",
      "To avoid trouble, add a specific year to the input & format.\n",
      "See https://github.com/python/cpython/issues/70647.\n",
      "  parsed_time = dateparser.parse(time_str)\n"
     ]
    },
    {
     "data": {
      "text/plain": [
       "{'symbol': 'TSLA',\n",
       " 'time': '2024-11-18',\n",
       " 'price': 338.739990234375,\n",
       " 'response': 'The stock price of TSLA on 2024-11-18 was $338.74.',\n",
       " 'message': 'What is the stock price of Tesla?'}"
      ]
     },
     "execution_count": 82,
     "metadata": {},
     "output_type": "execute_result"
    }
   ],
   "source": [
    "initial_state = {\n",
    "    \"message\": \"stock price of tesla in november 2024\",\n",
    "}\n",
    "workflow.invoke(initial_state)\n",
    "\n"
   ]
  }
 ],
 "metadata": {
  "kernelspec": {
   "display_name": "Python 3",
   "language": "python",
   "name": "python3"
  },
  "language_info": {
   "codemirror_mode": {
    "name": "ipython",
    "version": 3
   },
   "file_extension": ".py",
   "mimetype": "text/x-python",
   "name": "python",
   "nbconvert_exporter": "python",
   "pygments_lexer": "ipython3",
   "version": "3.13.4"
  }
 },
 "nbformat": 4,
 "nbformat_minor": 5
}
